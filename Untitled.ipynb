{
 "cells": [
  {
   "cell_type": "markdown",
   "id": "c5a97817",
   "metadata": {},
   "source": [
    "# Netflix Data Analysis by Using Python"
   ]
  },
  {
   "cell_type": "code",
   "execution_count": 29,
   "id": "1941ffe9",
   "metadata": {},
   "outputs": [],
   "source": [
    "#importing python libraies for analysis\n",
    "import pandas as pd\n",
    "import numpy as np\n",
    "import seaborn as sns"
   ]
  },
  {
   "cell_type": "code",
   "execution_count": 2,
   "id": "8c256a28",
   "metadata": {},
   "outputs": [],
   "source": [
    "df = pd.read_csv(r\"C:\\Users\\arunt\\Desktop\\Project\\Netflix\\archive\\netflix_titles.csv\")#uploading the dataset"
   ]
  },
  {
   "cell_type": "code",
   "execution_count": 33,
   "id": "41ee5043",
   "metadata": {
    "scrolled": true
   },
   "outputs": [
    {
     "data": {
      "text/html": [
       "<div>\n",
       "<style scoped>\n",
       "    .dataframe tbody tr th:only-of-type {\n",
       "        vertical-align: middle;\n",
       "    }\n",
       "\n",
       "    .dataframe tbody tr th {\n",
       "        vertical-align: top;\n",
       "    }\n",
       "\n",
       "    .dataframe thead th {\n",
       "        text-align: right;\n",
       "    }\n",
       "</style>\n",
       "<table border=\"1\" class=\"dataframe\">\n",
       "  <thead>\n",
       "    <tr style=\"text-align: right;\">\n",
       "      <th></th>\n",
       "      <th>show_id</th>\n",
       "      <th>type</th>\n",
       "      <th>title</th>\n",
       "      <th>director</th>\n",
       "      <th>cast</th>\n",
       "      <th>country</th>\n",
       "      <th>date_added</th>\n",
       "      <th>release_year</th>\n",
       "      <th>rating</th>\n",
       "      <th>duration</th>\n",
       "      <th>listed_in</th>\n",
       "      <th>description</th>\n",
       "    </tr>\n",
       "  </thead>\n",
       "  <tbody>\n",
       "    <tr>\n",
       "      <th>0</th>\n",
       "      <td>s1</td>\n",
       "      <td>Movie</td>\n",
       "      <td>Dick Johnson Is Dead</td>\n",
       "      <td>Kirsten Johnson</td>\n",
       "      <td>NaN</td>\n",
       "      <td>United States</td>\n",
       "      <td>September 25, 2021</td>\n",
       "      <td>2020</td>\n",
       "      <td>PG-13</td>\n",
       "      <td>90 min</td>\n",
       "      <td>Documentaries</td>\n",
       "      <td>As her father nears the end of his life, filmm...</td>\n",
       "    </tr>\n",
       "    <tr>\n",
       "      <th>1</th>\n",
       "      <td>s2</td>\n",
       "      <td>TV Show</td>\n",
       "      <td>Blood &amp; Water</td>\n",
       "      <td>NaN</td>\n",
       "      <td>Ama Qamata, Khosi Ngema, Gail Mabalane, Thaban...</td>\n",
       "      <td>South Africa</td>\n",
       "      <td>September 24, 2021</td>\n",
       "      <td>2021</td>\n",
       "      <td>TV-MA</td>\n",
       "      <td>2 Seasons</td>\n",
       "      <td>International TV Shows, TV Dramas, TV Mysteries</td>\n",
       "      <td>After crossing paths at a party, a Cape Town t...</td>\n",
       "    </tr>\n",
       "    <tr>\n",
       "      <th>2</th>\n",
       "      <td>s3</td>\n",
       "      <td>TV Show</td>\n",
       "      <td>Ganglands</td>\n",
       "      <td>Julien Leclercq</td>\n",
       "      <td>Sami Bouajila, Tracy Gotoas, Samuel Jouy, Nabi...</td>\n",
       "      <td>NaN</td>\n",
       "      <td>September 24, 2021</td>\n",
       "      <td>2021</td>\n",
       "      <td>TV-MA</td>\n",
       "      <td>1 Season</td>\n",
       "      <td>Crime TV Shows, International TV Shows, TV Act...</td>\n",
       "      <td>To protect his family from a powerful drug lor...</td>\n",
       "    </tr>\n",
       "    <tr>\n",
       "      <th>3</th>\n",
       "      <td>s4</td>\n",
       "      <td>TV Show</td>\n",
       "      <td>Jailbirds New Orleans</td>\n",
       "      <td>NaN</td>\n",
       "      <td>NaN</td>\n",
       "      <td>NaN</td>\n",
       "      <td>September 24, 2021</td>\n",
       "      <td>2021</td>\n",
       "      <td>TV-MA</td>\n",
       "      <td>1 Season</td>\n",
       "      <td>Docuseries, Reality TV</td>\n",
       "      <td>Feuds, flirtations and toilet talk go down amo...</td>\n",
       "    </tr>\n",
       "    <tr>\n",
       "      <th>4</th>\n",
       "      <td>s5</td>\n",
       "      <td>TV Show</td>\n",
       "      <td>Kota Factory</td>\n",
       "      <td>NaN</td>\n",
       "      <td>Mayur More, Jitendra Kumar, Ranjan Raj, Alam K...</td>\n",
       "      <td>India</td>\n",
       "      <td>September 24, 2021</td>\n",
       "      <td>2021</td>\n",
       "      <td>TV-MA</td>\n",
       "      <td>2 Seasons</td>\n",
       "      <td>International TV Shows, Romantic TV Shows, TV ...</td>\n",
       "      <td>In a city of coaching centers known to train I...</td>\n",
       "    </tr>\n",
       "  </tbody>\n",
       "</table>\n",
       "</div>"
      ],
      "text/plain": [
       "  show_id     type                  title         director  \\\n",
       "0      s1    Movie   Dick Johnson Is Dead  Kirsten Johnson   \n",
       "1      s2  TV Show          Blood & Water              NaN   \n",
       "2      s3  TV Show              Ganglands  Julien Leclercq   \n",
       "3      s4  TV Show  Jailbirds New Orleans              NaN   \n",
       "4      s5  TV Show           Kota Factory              NaN   \n",
       "\n",
       "                                                cast        country  \\\n",
       "0                                                NaN  United States   \n",
       "1  Ama Qamata, Khosi Ngema, Gail Mabalane, Thaban...   South Africa   \n",
       "2  Sami Bouajila, Tracy Gotoas, Samuel Jouy, Nabi...            NaN   \n",
       "3                                                NaN            NaN   \n",
       "4  Mayur More, Jitendra Kumar, Ranjan Raj, Alam K...          India   \n",
       "\n",
       "           date_added  release_year rating   duration  \\\n",
       "0  September 25, 2021          2020  PG-13     90 min   \n",
       "1  September 24, 2021          2021  TV-MA  2 Seasons   \n",
       "2  September 24, 2021          2021  TV-MA   1 Season   \n",
       "3  September 24, 2021          2021  TV-MA   1 Season   \n",
       "4  September 24, 2021          2021  TV-MA  2 Seasons   \n",
       "\n",
       "                                           listed_in  \\\n",
       "0                                      Documentaries   \n",
       "1    International TV Shows, TV Dramas, TV Mysteries   \n",
       "2  Crime TV Shows, International TV Shows, TV Act...   \n",
       "3                             Docuseries, Reality TV   \n",
       "4  International TV Shows, Romantic TV Shows, TV ...   \n",
       "\n",
       "                                         description  \n",
       "0  As her father nears the end of his life, filmm...  \n",
       "1  After crossing paths at a party, a Cape Town t...  \n",
       "2  To protect his family from a powerful drug lor...  \n",
       "3  Feuds, flirtations and toilet talk go down amo...  \n",
       "4  In a city of coaching centers known to train I...  "
      ]
     },
     "execution_count": 33,
     "metadata": {},
     "output_type": "execute_result"
    }
   ],
   "source": [
    "df.head() # viewing the overview of dataset"
   ]
  },
  {
   "cell_type": "code",
   "execution_count": 32,
   "id": "94b28890",
   "metadata": {},
   "outputs": [
    {
     "data": {
      "text/plain": [
       "show_id         object\n",
       "type            object\n",
       "title           object\n",
       "director        object\n",
       "cast            object\n",
       "country         object\n",
       "date_added      object\n",
       "release_year     int64\n",
       "rating          object\n",
       "duration        object\n",
       "listed_in       object\n",
       "description     object\n",
       "dtype: object"
      ]
     },
     "execution_count": 32,
     "metadata": {},
     "output_type": "execute_result"
    }
   ],
   "source": [
    "df.dtypes     ## understanding the types of data"
   ]
  },
  {
   "cell_type": "code",
   "execution_count": 8,
   "id": "2d86a237",
   "metadata": {},
   "outputs": [
    {
     "data": {
      "text/plain": [
       "(8807, 12)"
      ]
     },
     "execution_count": 8,
     "metadata": {},
     "output_type": "execute_result"
    }
   ],
   "source": [
    "df.shape #checking hoew much rows and columns are in the data set"
   ]
  },
  {
   "cell_type": "code",
   "execution_count": 9,
   "id": "644f97a8",
   "metadata": {
    "scrolled": true
   },
   "outputs": [
    {
     "name": "stdout",
     "output_type": "stream",
     "text": [
      "<class 'pandas.core.frame.DataFrame'>\n",
      "RangeIndex: 8807 entries, 0 to 8806\n",
      "Data columns (total 12 columns):\n",
      " #   Column        Non-Null Count  Dtype \n",
      "---  ------        --------------  ----- \n",
      " 0   show_id       8807 non-null   object\n",
      " 1   type          8807 non-null   object\n",
      " 2   title         8807 non-null   object\n",
      " 3   director      6173 non-null   object\n",
      " 4   cast          7982 non-null   object\n",
      " 5   country       7976 non-null   object\n",
      " 6   date_added    8797 non-null   object\n",
      " 7   release_year  8807 non-null   int64 \n",
      " 8   rating        8803 non-null   object\n",
      " 9   duration      8804 non-null   object\n",
      " 10  listed_in     8807 non-null   object\n",
      " 11  description   8807 non-null   object\n",
      "dtypes: int64(1), object(11)\n",
      "memory usage: 825.8+ KB\n"
     ]
    }
   ],
   "source": [
    "df.info()"
   ]
  },
  {
   "cell_type": "markdown",
   "id": "c8eb376a",
   "metadata": {},
   "source": [
    "  ## Data Cleaning Process\n",
    "  #### 1. Checking is there any duplicate data in this data frame ? if yes removing the data."
   ]
  },
  {
   "cell_type": "code",
   "execution_count": 11,
   "id": "08a16e58",
   "metadata": {},
   "outputs": [
    {
     "data": {
      "text/html": [
       "<div>\n",
       "<style scoped>\n",
       "    .dataframe tbody tr th:only-of-type {\n",
       "        vertical-align: middle;\n",
       "    }\n",
       "\n",
       "    .dataframe tbody tr th {\n",
       "        vertical-align: top;\n",
       "    }\n",
       "\n",
       "    .dataframe thead th {\n",
       "        text-align: right;\n",
       "    }\n",
       "</style>\n",
       "<table border=\"1\" class=\"dataframe\">\n",
       "  <thead>\n",
       "    <tr style=\"text-align: right;\">\n",
       "      <th></th>\n",
       "      <th>show_id</th>\n",
       "      <th>type</th>\n",
       "      <th>title</th>\n",
       "      <th>director</th>\n",
       "      <th>cast</th>\n",
       "      <th>country</th>\n",
       "      <th>date_added</th>\n",
       "      <th>release_year</th>\n",
       "      <th>rating</th>\n",
       "      <th>duration</th>\n",
       "      <th>listed_in</th>\n",
       "      <th>description</th>\n",
       "    </tr>\n",
       "  </thead>\n",
       "  <tbody>\n",
       "  </tbody>\n",
       "</table>\n",
       "</div>"
      ],
      "text/plain": [
       "Empty DataFrame\n",
       "Columns: [show_id, type, title, director, cast, country, date_added, release_year, rating, duration, listed_in, description]\n",
       "Index: []"
      ]
     },
     "execution_count": 11,
     "metadata": {},
     "output_type": "execute_result"
    }
   ],
   "source": [
    "df[df.duplicated()]"
   ]
  },
  {
   "cell_type": "markdown",
   "id": "fe9b4646",
   "metadata": {},
   "source": [
    "#### There is no duplicate data \n",
    "\n",
    "#### 2. Checking is there any null  value in the data "
   ]
  },
  {
   "cell_type": "code",
   "execution_count": 14,
   "id": "a76e48bf",
   "metadata": {},
   "outputs": [
    {
     "data": {
      "text/plain": [
       "show_id            0\n",
       "type               0\n",
       "title              0\n",
       "director        2634\n",
       "cast             825\n",
       "country          831\n",
       "date_added        10\n",
       "release_year       0\n",
       "rating             4\n",
       "duration           3\n",
       "listed_in          0\n",
       "description        0\n",
       "dtype: int64"
      ]
     },
     "execution_count": 14,
     "metadata": {},
     "output_type": "execute_result"
    }
   ],
   "source": [
    "df.isnull().sum()"
   ]
  },
  {
   "cell_type": "code",
   "execution_count": 71,
   "id": "cb3ccc36",
   "metadata": {},
   "outputs": [],
   "source": [
    "df_new =df.dropna() # deleting the null value "
   ]
  },
  {
   "cell_type": "code",
   "execution_count": 72,
   "id": "dfe7c418",
   "metadata": {},
   "outputs": [
    {
     "data": {
      "text/plain": [
       "show_id         0\n",
       "type            0\n",
       "title           0\n",
       "director        0\n",
       "cast            0\n",
       "country         0\n",
       "date_added      0\n",
       "release_year    0\n",
       "rating          0\n",
       "duration        0\n",
       "listed_in       0\n",
       "description     0\n",
       "dtype: int64"
      ]
     },
     "execution_count": 72,
     "metadata": {},
     "output_type": "execute_result"
    }
   ],
   "source": [
    "df_new.isnull().sum()"
   ]
  },
  {
   "cell_type": "markdown",
   "id": "33b90ec9",
   "metadata": {},
   "source": [
    "###  Analysing\n",
    "\n",
    "#### 1.In which year highest number of TV  Shows and Movies were released ?"
   ]
  },
  {
   "cell_type": "code",
   "execution_count": 51,
   "id": "d7ebc37a",
   "metadata": {},
   "outputs": [
    {
     "data": {
      "text/plain": [
       "2018    1147\n",
       "2017    1032\n",
       "2019    1030\n",
       "2020     953\n",
       "2016     902\n",
       "2021     592\n",
       "2015     560\n",
       "2014     352\n",
       "2013     288\n",
       "2012     237\n",
       "Name: release_year, dtype: int64"
      ]
     },
     "execution_count": 51,
     "metadata": {},
     "output_type": "execute_result"
    }
   ],
   "source": [
    "df['release_year'].value_counts().nlargest(10)"
   ]
  },
  {
   "cell_type": "markdown",
   "id": "2d4d9205",
   "metadata": {},
   "source": [
    "### Bar Graph"
   ]
  },
  {
   "cell_type": "code",
   "execution_count": 52,
   "id": "7f3140d7",
   "metadata": {},
   "outputs": [
    {
     "data": {
      "text/plain": [
       "<AxesSubplot:>"
      ]
     },
     "execution_count": 52,
     "metadata": {},
     "output_type": "execute_result"
    },
    {
     "data": {
      "image/png": "[encoded data removed]",
      "text/plain": [
       "<Figure size 432x288 with 1 Axes>"
      ]
     },
     "metadata": {
      "needs_background": "light"
     },
     "output_type": "display_data"
    }
   ],
   "source": [
    "df['release_year'].value_counts(10).nlargest(10).plot(kind='bar') #viewing in on bar graph"
   ]
  },
  {
   "cell_type": "markdown",
   "id": "b979c2dd",
   "metadata": {},
   "source": [
    "###  2. How many Tv shows and Movies are in the dataset"
   ]
  },
  {
   "cell_type": "code",
   "execution_count": 53,
   "id": "6706bee0",
   "metadata": {},
   "outputs": [
    {
     "data": {
      "text/plain": [
       "type\n",
       "Movie      6131\n",
       "TV Show    2676\n",
       "Name: type, dtype: int64"
      ]
     },
     "execution_count": 53,
     "metadata": {},
     "output_type": "execute_result"
    }
   ],
   "source": [
    "df.groupby('type').type.count()"
   ]
  },
  {
   "cell_type": "code",
   "execution_count": 54,
   "id": "4a57d5d2",
   "metadata": {
    "scrolled": true
   },
   "outputs": [
    {
     "name": "stderr",
     "output_type": "stream",
     "text": [
      "C:\\Users\\arunt\\anaconda3\\lib\\site-packages\\seaborn\\_decorators.py:36: FutureWarning: Pass the following variable as a keyword arg: x. From version 0.12, the only valid positional argument will be `data`, and passing other arguments without an explicit keyword will result in an error or misinterpretation.\n",
      "  warnings.warn(\n"
     ]
    },
    {
     "data": {
      "text/plain": [
       "<AxesSubplot:xlabel='type', ylabel='count'>"
      ]
     },
     "execution_count": 54,
     "metadata": {},
     "output_type": "execute_result"
    },
    {
     "data": {
      "image/png": "[encoded data removed]",
      "text/plain": [
       "<Figure size 432x288 with 1 Axes>"
      ]
     },
     "metadata": {
      "needs_background": "light"
     },
     "output_type": "display_data"
    }
   ],
   "source": [
    "sns.countplot(df['type']) #viewing it graph"
   ]
  },
  {
   "cell_type": "markdown",
   "id": "ab3dee26",
   "metadata": {},
   "source": [
    "### 3. Showing the movies relesed on 2017"
   ]
  },
  {
   "cell_type": "code",
   "execution_count": 65,
   "id": "1513ba87",
   "metadata": {},
   "outputs": [
    {
     "data": {
      "text/html": [
       "<div>\n",
       "<style scoped>\n",
       "    .dataframe tbody tr th:only-of-type {\n",
       "        vertical-align: middle;\n",
       "    }\n",
       "\n",
       "    .dataframe tbody tr th {\n",
       "        vertical-align: top;\n",
       "    }\n",
       "\n",
       "    .dataframe thead th {\n",
       "        text-align: right;\n",
       "    }\n",
       "</style>\n",
       "<table border=\"1\" class=\"dataframe\">\n",
       "  <thead>\n",
       "    <tr style=\"text-align: right;\">\n",
       "      <th></th>\n",
       "      <th>show_id</th>\n",
       "      <th>type</th>\n",
       "      <th>title</th>\n",
       "      <th>director</th>\n",
       "      <th>cast</th>\n",
       "      <th>country</th>\n",
       "      <th>date_added</th>\n",
       "      <th>release_year</th>\n",
       "      <th>rating</th>\n",
       "      <th>duration</th>\n",
       "      <th>listed_in</th>\n",
       "      <th>description</th>\n",
       "    </tr>\n",
       "  </thead>\n",
       "  <tbody>\n",
       "    <tr>\n",
       "      <th>38</th>\n",
       "      <td>s39</td>\n",
       "      <td>Movie</td>\n",
       "      <td>Birth of the Dragon</td>\n",
       "      <td>George Nolfi</td>\n",
       "      <td>Billy Magnussen, Ron Yuan, Qu Jingjing, Terry ...</td>\n",
       "      <td>China, Canada, United States</td>\n",
       "      <td>September 16, 2021</td>\n",
       "      <td>2017</td>\n",
       "      <td>PG-13</td>\n",
       "      <td>96 min</td>\n",
       "      <td>Action &amp; Adventure, Dramas</td>\n",
       "      <td>A young Bruce Lee angers kung fu traditionalis...</td>\n",
       "    </tr>\n",
       "    <tr>\n",
       "      <th>105</th>\n",
       "      <td>s106</td>\n",
       "      <td>Movie</td>\n",
       "      <td>Angamaly Diaries</td>\n",
       "      <td>Lijo Jose Pellissery</td>\n",
       "      <td>Antony Varghese, Reshma Rajan, Binny Rinky Ben...</td>\n",
       "      <td>India</td>\n",
       "      <td>September 5, 2021</td>\n",
       "      <td>2017</td>\n",
       "      <td>TV-14</td>\n",
       "      <td>128 min</td>\n",
       "      <td>Action &amp; Adventure, Comedies, Dramas</td>\n",
       "      <td>After growing up amidst the gang wars of his h...</td>\n",
       "    </tr>\n",
       "    <tr>\n",
       "      <th>118</th>\n",
       "      <td>s119</td>\n",
       "      <td>Movie</td>\n",
       "      <td>Gurgaon</td>\n",
       "      <td>Shanker Raman</td>\n",
       "      <td>Akshay Oberoi, Pankaj Tripathi, Ragini Khanna,...</td>\n",
       "      <td>India</td>\n",
       "      <td>September 2, 2021</td>\n",
       "      <td>2017</td>\n",
       "      <td>TV-14</td>\n",
       "      <td>106 min</td>\n",
       "      <td>Dramas, International Movies, Thrillers</td>\n",
       "      <td>When the daughter of a wealthy family returns ...</td>\n",
       "    </tr>\n",
       "    <tr>\n",
       "      <th>128</th>\n",
       "      <td>s129</td>\n",
       "      <td>Movie</td>\n",
       "      <td>Agatha Christie's Crooked House</td>\n",
       "      <td>Gilles Paquet-Brenner</td>\n",
       "      <td>Glenn Close, Terence Stamp, Max Irons, Gillian...</td>\n",
       "      <td>NaN</td>\n",
       "      <td>September 1, 2021</td>\n",
       "      <td>2017</td>\n",
       "      <td>PG-13</td>\n",
       "      <td>115 min</td>\n",
       "      <td>Dramas, International Movies, Thrillers</td>\n",
       "      <td>When a detective investigates the death of his...</td>\n",
       "    </tr>\n",
       "    <tr>\n",
       "      <th>162</th>\n",
       "      <td>s163</td>\n",
       "      <td>Movie</td>\n",
       "      <td>Marshall</td>\n",
       "      <td>Reginald Hudlin</td>\n",
       "      <td>Chadwick Boseman, Josh Gad, Kate Hudson, Sterl...</td>\n",
       "      <td>United States, China, Hong Kong</td>\n",
       "      <td>September 1, 2021</td>\n",
       "      <td>2017</td>\n",
       "      <td>PG-13</td>\n",
       "      <td>118 min</td>\n",
       "      <td>Dramas</td>\n",
       "      <td>This biopic of Thurgood Marshall, the first Bl...</td>\n",
       "    </tr>\n",
       "    <tr>\n",
       "      <th>...</th>\n",
       "      <td>...</td>\n",
       "      <td>...</td>\n",
       "      <td>...</td>\n",
       "      <td>...</td>\n",
       "      <td>...</td>\n",
       "      <td>...</td>\n",
       "      <td>...</td>\n",
       "      <td>...</td>\n",
       "      <td>...</td>\n",
       "      <td>...</td>\n",
       "      <td>...</td>\n",
       "      <td>...</td>\n",
       "    </tr>\n",
       "    <tr>\n",
       "      <th>8746</th>\n",
       "      <td>s8747</td>\n",
       "      <td>Movie</td>\n",
       "      <td>Winnie</td>\n",
       "      <td>Pascale Lamche</td>\n",
       "      <td>NaN</td>\n",
       "      <td>France, Netherlands, South Africa, Finland</td>\n",
       "      <td>February 26, 2018</td>\n",
       "      <td>2017</td>\n",
       "      <td>TV-14</td>\n",
       "      <td>85 min</td>\n",
       "      <td>Documentaries, International Movies</td>\n",
       "      <td>Winnie Mandela speaks about her extraordinary ...</td>\n",
       "    </tr>\n",
       "    <tr>\n",
       "      <th>8753</th>\n",
       "      <td>s8754</td>\n",
       "      <td>Movie</td>\n",
       "      <td>Withdrawn</td>\n",
       "      <td>Adrian Murray</td>\n",
       "      <td>Aaron Keogh, Molly Reisman, Dean Tardioli, Gre...</td>\n",
       "      <td>Canada</td>\n",
       "      <td>May 1, 2018</td>\n",
       "      <td>2017</td>\n",
       "      <td>TV-MA</td>\n",
       "      <td>74 min</td>\n",
       "      <td>Dramas, Independent Movies</td>\n",
       "      <td>Unable to pay bills and unwilling to change hi...</td>\n",
       "    </tr>\n",
       "    <tr>\n",
       "      <th>8765</th>\n",
       "      <td>s8766</td>\n",
       "      <td>Movie</td>\n",
       "      <td>XX</td>\n",
       "      <td>Jovanka Vuckovic, Annie Clark, Roxanne Benjami...</td>\n",
       "      <td>Natalie Brown, Jonathan Watton, Melanie Lynske...</td>\n",
       "      <td>Canada, United States</td>\n",
       "      <td>June 22, 2017</td>\n",
       "      <td>2017</td>\n",
       "      <td>R</td>\n",
       "      <td>81 min</td>\n",
       "      <td>Horror Movies</td>\n",
       "      <td>This four-part anthology of short horror films...</td>\n",
       "    </tr>\n",
       "    <tr>\n",
       "      <th>8786</th>\n",
       "      <td>s8787</td>\n",
       "      <td>Movie</td>\n",
       "      <td>You Can Tutu</td>\n",
       "      <td>James Brown</td>\n",
       "      <td>Lily O'Regan, Jeannettsy Enriquez Borges, Joel...</td>\n",
       "      <td>United Kingdom</td>\n",
       "      <td>December 31, 2017</td>\n",
       "      <td>2017</td>\n",
       "      <td>TV-G</td>\n",
       "      <td>87 min</td>\n",
       "      <td>Children &amp; Family Movies</td>\n",
       "      <td>A gifted young ballet dancer struggles to find...</td>\n",
       "    </tr>\n",
       "    <tr>\n",
       "      <th>8787</th>\n",
       "      <td>s8788</td>\n",
       "      <td>Movie</td>\n",
       "      <td>You Can’t Fight Christmas</td>\n",
       "      <td>Kenny Young</td>\n",
       "      <td>Brely Evans, Andra Fuller, Persia White, Porsc...</td>\n",
       "      <td>United States</td>\n",
       "      <td>December 19, 2017</td>\n",
       "      <td>2017</td>\n",
       "      <td>TV-PG</td>\n",
       "      <td>85 min</td>\n",
       "      <td>Comedies, Romantic Movies</td>\n",
       "      <td>After stepping in to revitalize his family's h...</td>\n",
       "    </tr>\n",
       "  </tbody>\n",
       "</table>\n",
       "<p>767 rows × 12 columns</p>\n",
       "</div>"
      ],
      "text/plain": [
       "     show_id   type                            title  \\\n",
       "38       s39  Movie              Birth of the Dragon   \n",
       "105     s106  Movie                 Angamaly Diaries   \n",
       "118     s119  Movie                          Gurgaon   \n",
       "128     s129  Movie  Agatha Christie's Crooked House   \n",
       "162     s163  Movie                         Marshall   \n",
       "...      ...    ...                              ...   \n",
       "8746   s8747  Movie                           Winnie   \n",
       "8753   s8754  Movie                        Withdrawn   \n",
       "8765   s8766  Movie                               XX   \n",
       "8786   s8787  Movie                     You Can Tutu   \n",
       "8787   s8788  Movie        You Can’t Fight Christmas   \n",
       "\n",
       "                                               director  \\\n",
       "38                                         George Nolfi   \n",
       "105                                Lijo Jose Pellissery   \n",
       "118                                       Shanker Raman   \n",
       "128                               Gilles Paquet-Brenner   \n",
       "162                                     Reginald Hudlin   \n",
       "...                                                 ...   \n",
       "8746                                     Pascale Lamche   \n",
       "8753                                      Adrian Murray   \n",
       "8765  Jovanka Vuckovic, Annie Clark, Roxanne Benjami...   \n",
       "8786                                        James Brown   \n",
       "8787                                        Kenny Young   \n",
       "\n",
       "                                                   cast  \\\n",
       "38    Billy Magnussen, Ron Yuan, Qu Jingjing, Terry ...   \n",
       "105   Antony Varghese, Reshma Rajan, Binny Rinky Ben...   \n",
       "118   Akshay Oberoi, Pankaj Tripathi, Ragini Khanna,...   \n",
       "128   Glenn Close, Terence Stamp, Max Irons, Gillian...   \n",
       "162   Chadwick Boseman, Josh Gad, Kate Hudson, Sterl...   \n",
       "...                                                 ...   \n",
       "8746                                                NaN   \n",
       "8753  Aaron Keogh, Molly Reisman, Dean Tardioli, Gre...   \n",
       "8765  Natalie Brown, Jonathan Watton, Melanie Lynske...   \n",
       "8786  Lily O'Regan, Jeannettsy Enriquez Borges, Joel...   \n",
       "8787  Brely Evans, Andra Fuller, Persia White, Porsc...   \n",
       "\n",
       "                                         country          date_added  \\\n",
       "38                  China, Canada, United States  September 16, 2021   \n",
       "105                                        India   September 5, 2021   \n",
       "118                                        India   September 2, 2021   \n",
       "128                                          NaN   September 1, 2021   \n",
       "162              United States, China, Hong Kong   September 1, 2021   \n",
       "...                                          ...                 ...   \n",
       "8746  France, Netherlands, South Africa, Finland   February 26, 2018   \n",
       "8753                                      Canada         May 1, 2018   \n",
       "8765                       Canada, United States       June 22, 2017   \n",
       "8786                              United Kingdom   December 31, 2017   \n",
       "8787                               United States   December 19, 2017   \n",
       "\n",
       "      release_year rating duration                                listed_in  \\\n",
       "38            2017  PG-13   96 min               Action & Adventure, Dramas   \n",
       "105           2017  TV-14  128 min     Action & Adventure, Comedies, Dramas   \n",
       "118           2017  TV-14  106 min  Dramas, International Movies, Thrillers   \n",
       "128           2017  PG-13  115 min  Dramas, International Movies, Thrillers   \n",
       "162           2017  PG-13  118 min                                   Dramas   \n",
       "...            ...    ...      ...                                      ...   \n",
       "8746          2017  TV-14   85 min      Documentaries, International Movies   \n",
       "8753          2017  TV-MA   74 min               Dramas, Independent Movies   \n",
       "8765          2017      R   81 min                            Horror Movies   \n",
       "8786          2017   TV-G   87 min                 Children & Family Movies   \n",
       "8787          2017  TV-PG   85 min                Comedies, Romantic Movies   \n",
       "\n",
       "                                            description  \n",
       "38    A young Bruce Lee angers kung fu traditionalis...  \n",
       "105   After growing up amidst the gang wars of his h...  \n",
       "118   When the daughter of a wealthy family returns ...  \n",
       "128   When a detective investigates the death of his...  \n",
       "162   This biopic of Thurgood Marshall, the first Bl...  \n",
       "...                                                 ...  \n",
       "8746  Winnie Mandela speaks about her extraordinary ...  \n",
       "8753  Unable to pay bills and unwilling to change hi...  \n",
       "8765  This four-part anthology of short horror films...  \n",
       "8786  A gifted young ballet dancer struggles to find...  \n",
       "8787  After stepping in to revitalize his family's h...  \n",
       "\n",
       "[767 rows x 12 columns]"
      ]
     },
     "execution_count": 65,
     "metadata": {},
     "output_type": "execute_result"
    }
   ],
   "source": [
    "df[(df['type']=='Movie')&(df['release_year']==2017)]"
   ]
  },
  {
   "cell_type": "markdown",
   "id": "c12c4d9d",
   "metadata": {},
   "source": [
    "###  4.Top 10 Directors who gave the higest number of movies"
   ]
  },
  {
   "cell_type": "code",
   "execution_count": 67,
   "id": "798fcdec",
   "metadata": {},
   "outputs": [
    {
     "data": {
      "text/plain": [
       "Rajiv Chilaka                     19\n",
       "Raúl Campos, Jan Suter            18\n",
       "Marcus Raboy                      16\n",
       "Suhas Kadav                       16\n",
       "Jay Karas                         14\n",
       "                                  ..\n",
       "Raymie Muzquiz, Stu Livingston     1\n",
       "Joe Menendez                       1\n",
       "Eric Bross                         1\n",
       "Will Eisenberg                     1\n",
       "Mozez Singh                        1\n",
       "Name: director, Length: 4528, dtype: int64"
      ]
     },
     "execution_count": 67,
     "metadata": {},
     "output_type": "execute_result"
    }
   ],
   "source": [
    "df['director'].value_counts()"
   ]
  },
  {
   "cell_type": "markdown",
   "id": "e6dc80c4",
   "metadata": {},
   "source": [
    "### 5.How much film Tom cruise casted"
   ]
  },
  {
   "cell_type": "code",
   "execution_count": 70,
   "id": "485824e4",
   "metadata": {},
   "outputs": [
    {
     "data": {
      "text/html": [
       "<div>\n",
       "<style scoped>\n",
       "    .dataframe tbody tr th:only-of-type {\n",
       "        vertical-align: middle;\n",
       "    }\n",
       "\n",
       "    .dataframe tbody tr th {\n",
       "        vertical-align: top;\n",
       "    }\n",
       "\n",
       "    .dataframe thead th {\n",
       "        text-align: right;\n",
       "    }\n",
       "</style>\n",
       "<table border=\"1\" class=\"dataframe\">\n",
       "  <thead>\n",
       "    <tr style=\"text-align: right;\">\n",
       "      <th></th>\n",
       "      <th>show_id</th>\n",
       "      <th>type</th>\n",
       "      <th>title</th>\n",
       "      <th>director</th>\n",
       "      <th>cast</th>\n",
       "      <th>country</th>\n",
       "      <th>date_added</th>\n",
       "      <th>release_year</th>\n",
       "      <th>rating</th>\n",
       "      <th>duration</th>\n",
       "      <th>listed_in</th>\n",
       "      <th>description</th>\n",
       "    </tr>\n",
       "  </thead>\n",
       "  <tbody>\n",
       "  </tbody>\n",
       "</table>\n",
       "</div>"
      ],
      "text/plain": [
       "Empty DataFrame\n",
       "Columns: [show_id, type, title, director, cast, country, date_added, release_year, rating, duration, listed_in, description]\n",
       "Index: []"
      ]
     },
     "execution_count": 70,
     "metadata": {},
     "output_type": "execute_result"
    }
   ],
   "source": [
    "df[df['cast']=='Tom Cruise']"
   ]
  },
  {
   "cell_type": "code",
   "execution_count": 74,
   "id": "808d9372",
   "metadata": {},
   "outputs": [
    {
     "data": {
      "text/html": [
       "<div>\n",
       "<style scoped>\n",
       "    .dataframe tbody tr th:only-of-type {\n",
       "        vertical-align: middle;\n",
       "    }\n",
       "\n",
       "    .dataframe tbody tr th {\n",
       "        vertical-align: top;\n",
       "    }\n",
       "\n",
       "    .dataframe thead th {\n",
       "        text-align: right;\n",
       "    }\n",
       "</style>\n",
       "<table border=\"1\" class=\"dataframe\">\n",
       "  <thead>\n",
       "    <tr style=\"text-align: right;\">\n",
       "      <th></th>\n",
       "      <th>show_id</th>\n",
       "      <th>type</th>\n",
       "      <th>title</th>\n",
       "      <th>director</th>\n",
       "      <th>cast</th>\n",
       "      <th>country</th>\n",
       "      <th>date_added</th>\n",
       "      <th>release_year</th>\n",
       "      <th>rating</th>\n",
       "      <th>duration</th>\n",
       "      <th>listed_in</th>\n",
       "      <th>description</th>\n",
       "    </tr>\n",
       "  </thead>\n",
       "  <tbody>\n",
       "    <tr>\n",
       "      <th>341</th>\n",
       "      <td>s342</td>\n",
       "      <td>Movie</td>\n",
       "      <td>Magnolia</td>\n",
       "      <td>Paul Thomas Anderson</td>\n",
       "      <td>John C. Reilly, Philip Baker Hall, Tom Cruise,...</td>\n",
       "      <td>United States</td>\n",
       "      <td>August 1, 2021</td>\n",
       "      <td>1999</td>\n",
       "      <td>R</td>\n",
       "      <td>189 min</td>\n",
       "      <td>Dramas, Independent Movies</td>\n",
       "      <td>Through chance, history and divine interventio...</td>\n",
       "    </tr>\n",
       "    <tr>\n",
       "      <th>1254</th>\n",
       "      <td>s1255</td>\n",
       "      <td>Movie</td>\n",
       "      <td>Rain Man</td>\n",
       "      <td>Barry Levinson</td>\n",
       "      <td>Dustin Hoffman, Tom Cruise, Valeria Golino, Ge...</td>\n",
       "      <td>United States</td>\n",
       "      <td>March 1, 2021</td>\n",
       "      <td>1988</td>\n",
       "      <td>R</td>\n",
       "      <td>134 min</td>\n",
       "      <td>Classic Movies, Dramas</td>\n",
       "      <td>Motivated by money, a selfish workaholic seeki...</td>\n",
       "    </tr>\n",
       "  </tbody>\n",
       "</table>\n",
       "</div>"
      ],
      "text/plain": [
       "     show_id   type     title              director  \\\n",
       "341     s342  Movie  Magnolia  Paul Thomas Anderson   \n",
       "1254   s1255  Movie  Rain Man        Barry Levinson   \n",
       "\n",
       "                                                   cast        country  \\\n",
       "341   John C. Reilly, Philip Baker Hall, Tom Cruise,...  United States   \n",
       "1254  Dustin Hoffman, Tom Cruise, Valeria Golino, Ge...  United States   \n",
       "\n",
       "          date_added  release_year rating duration  \\\n",
       "341   August 1, 2021          1999      R  189 min   \n",
       "1254   March 1, 2021          1988      R  134 min   \n",
       "\n",
       "                       listed_in  \\\n",
       "341   Dramas, Independent Movies   \n",
       "1254      Classic Movies, Dramas   \n",
       "\n",
       "                                            description  \n",
       "341   Through chance, history and divine interventio...  \n",
       "1254  Motivated by money, a selfish workaholic seeki...  "
      ]
     },
     "execution_count": 74,
     "metadata": {},
     "output_type": "execute_result"
    }
   ],
   "source": [
    "df_new[df_new['cast'].str.contains('Tom Cruise')]"
   ]
  },
  {
   "cell_type": "markdown",
   "id": "4bba2aa8",
   "metadata": {},
   "source": [
    "### 6.What are the different Ratings by Netflix"
   ]
  },
  {
   "cell_type": "code",
   "execution_count": 76,
   "id": "808099b5",
   "metadata": {},
   "outputs": [
    {
     "data": {
      "text/plain": [
       "17"
      ]
     },
     "execution_count": 76,
     "metadata": {},
     "output_type": "execute_result"
    }
   ],
   "source": [
    "df['rating'].nunique()"
   ]
  },
  {
   "cell_type": "code",
   "execution_count": 77,
   "id": "424df59c",
   "metadata": {},
   "outputs": [
    {
     "data": {
      "text/plain": [
       "array(['PG-13', 'TV-MA', 'PG', 'TV-14', 'TV-PG', 'TV-Y', 'TV-Y7', 'R',\n",
       "       'TV-G', 'G', 'NC-17', '74 min', '84 min', '66 min', 'NR', nan,\n",
       "       'TV-Y7-FV', 'UR'], dtype=object)"
      ]
     },
     "execution_count": 77,
     "metadata": {},
     "output_type": "execute_result"
    }
   ],
   "source": [
    "df['rating'].unique()"
   ]
  },
  {
   "cell_type": "markdown",
   "id": "07a1cec4",
   "metadata": {},
   "source": [
    "### 7.How many TV Shows got the R rating after 2015"
   ]
  },
  {
   "cell_type": "code",
   "execution_count": 86,
   "id": "7afcfabb",
   "metadata": {},
   "outputs": [
    {
     "data": {
      "text/html": [
       "<div>\n",
       "<style scoped>\n",
       "    .dataframe tbody tr th:only-of-type {\n",
       "        vertical-align: middle;\n",
       "    }\n",
       "\n",
       "    .dataframe tbody tr th {\n",
       "        vertical-align: top;\n",
       "    }\n",
       "\n",
       "    .dataframe thead th {\n",
       "        text-align: right;\n",
       "    }\n",
       "</style>\n",
       "<table border=\"1\" class=\"dataframe\">\n",
       "  <thead>\n",
       "    <tr style=\"text-align: right;\">\n",
       "      <th></th>\n",
       "      <th>show_id</th>\n",
       "      <th>type</th>\n",
       "      <th>title</th>\n",
       "      <th>director</th>\n",
       "      <th>cast</th>\n",
       "      <th>country</th>\n",
       "      <th>date_added</th>\n",
       "      <th>release_year</th>\n",
       "      <th>rating</th>\n",
       "      <th>duration</th>\n",
       "      <th>listed_in</th>\n",
       "      <th>description</th>\n",
       "    </tr>\n",
       "  </thead>\n",
       "  <tbody>\n",
       "    <tr>\n",
       "      <th>7593</th>\n",
       "      <td>s7594</td>\n",
       "      <td>TV Show</td>\n",
       "      <td>Nobel</td>\n",
       "      <td>NaN</td>\n",
       "      <td>Aksel Hennie, Tuva Novotny, Anders Danielsen L...</td>\n",
       "      <td>Norway</td>\n",
       "      <td>December 10, 2016</td>\n",
       "      <td>2016</td>\n",
       "      <td>R</td>\n",
       "      <td>1 Season</td>\n",
       "      <td>International TV Shows, TV Dramas, TV Thrillers</td>\n",
       "      <td>A series of incidents in Afghanistan set compl...</td>\n",
       "    </tr>\n",
       "  </tbody>\n",
       "</table>\n",
       "</div>"
      ],
      "text/plain": [
       "     show_id     type  title director  \\\n",
       "7593   s7594  TV Show  Nobel      NaN   \n",
       "\n",
       "                                                   cast country  \\\n",
       "7593  Aksel Hennie, Tuva Novotny, Anders Danielsen L...  Norway   \n",
       "\n",
       "             date_added  release_year rating  duration  \\\n",
       "7593  December 10, 2016          2016      R  1 Season   \n",
       "\n",
       "                                            listed_in  \\\n",
       "7593  International TV Shows, TV Dramas, TV Thrillers   \n",
       "\n",
       "                                            description  \n",
       "7593  A series of incidents in Afghanistan set compl...  "
      ]
     },
     "execution_count": 86,
     "metadata": {},
     "output_type": "execute_result"
    }
   ],
   "source": [
    "df[(df['type']=='TV Show')&(df['rating']=='R')& (df['release_year'] > 2015)]"
   ]
  },
  {
   "cell_type": "markdown",
   "id": "360f2bc9",
   "metadata": {},
   "source": []
  },
  {
   "cell_type": "code",
   "execution_count": null,
   "id": "342f53e7",
   "metadata": {},
   "outputs": [],
   "source": []
  },
  {
   "cell_type": "code",
   "execution_count": null,
   "id": "405e0c87",
   "metadata": {},
   "outputs": [],
   "source": [
    "\n"
   ]
  },
  {
   "cell_type": "code",
   "execution_count": null,
   "id": "279b104c",
   "metadata": {},
   "outputs": [],
   "source": []
  },
  {
   "cell_type": "code",
   "execution_count": null,
   "id": "1833e3a2",
   "metadata": {},
   "outputs": [],
   "source": []
  },
  {
   "cell_type": "code",
   "execution_count": null,
   "id": "f5599379",
   "metadata": {},
   "outputs": [],
   "source": []
  }
 ],
 "metadata": {
  "kernelspec": {
   "display_name": "Python 3 (ipykernel)",
   "language": "python",
   "name": "python3"
  },
  "language_info": {
   "codemirror_mode": {
    "name": "ipython",
    "version": 3
   },
   "file_extension": ".py",
   "mimetype": "text/x-python",
   "name": "python",
   "nbconvert_exporter": "python",
   "pygments_lexer": "ipython3",
   "version": "3.9.12"
  }
 },
 "nbformat": 4,
 "nbformat_minor": 5
}
